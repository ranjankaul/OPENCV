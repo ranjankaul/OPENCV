{
 "cells": [
  {
   "cell_type": "code",
   "execution_count": 11,
   "metadata": {},
   "outputs": [],
   "source": [
    "import cv2 as cv\n",
    "import numpy as np\n",
    "import math\n",
    "\n",
    "cap = cv.VideoCapture(0)\n",
    "\n",
    "while True:\n",
    "    ret,frame = cap.read()\n",
    "\n",
    "    cv.rectangle(frame,(50,50),(400,400),(0,255,0),0)\n",
    "    crop_image = frame[50:400,50:400]\n",
    "    \n",
    "    ## blur ##\n",
    "    blur = cv.GaussianBlur(crop_image,(3,3),0)\n",
    "    HSV = cv.cvtColor(blur,cv.COLOR_BGR2HSV)\n",
    "    \n",
    "    low = np.array([2,0,0])\n",
    "    high = np.array([20,255,255])\n",
    "    \n",
    "    mask = cv.inRange(HSV,low,high)\n",
    "    \n",
    "    kernel = np.ones((5,5))\n",
    "    dilation = cv.dilate(mask,kernel,iterations = 1)\n",
    "    erosion = cv.erode(dilation,kernel,iterations = 1)\n",
    "    ret,thresh =cv.threshold(erosion,127,255,0)\n",
    "    \n",
    "    contours, hierarchy = cv.findContours(thresh, cv.RETR_TREE, cv.CHAIN_APPROX_SIMPLE)\n",
    "    for c in contours:\n",
    "        hull = [cv.convexHull(c)]\n",
    "        area  =  cv.contourArea(c)\n",
    "        if area > 1600:\n",
    "            cv.drawContours(erosion,hull,-1,(255,0,0),0)\n",
    "            cv.drawContours(erosion,c,-1,(255,0,0),0)\n",
    "    cv.imshow('convex',frame)\n",
    "    cv.imshow('thresh',erosion)\n",
    "    key = cv.waitKey(1)\n",
    "    if key ==27:\n",
    "        break\n",
    "\n",
    "cap.release()\n",
    "cv.destroyAllWindows()\n",
    "\n"
   ]
  },
  {
   "cell_type": "code",
   "execution_count": null,
   "metadata": {},
   "outputs": [],
   "source": []
  },
  {
   "cell_type": "code",
   "execution_count": null,
   "metadata": {},
   "outputs": [],
   "source": []
  }
 ],
 "metadata": {
  "kernelspec": {
   "display_name": "Python 3",
   "language": "python",
   "name": "python3"
  },
  "language_info": {
   "codemirror_mode": {
    "name": "ipython",
    "version": 3
   },
   "file_extension": ".py",
   "mimetype": "text/x-python",
   "name": "python",
   "nbconvert_exporter": "python",
   "pygments_lexer": "ipython3",
   "version": "3.7.0"
  }
 },
 "nbformat": 4,
 "nbformat_minor": 2
}
